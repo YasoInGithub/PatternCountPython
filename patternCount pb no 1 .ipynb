{
 "cells": [
  {
   "cell_type": "code",
   "execution_count": 12,
   "id": "fe441ef5-ba26-4ed4-9236-5914b888cfe0",
   "metadata": {},
   "outputs": [],
   "source": [
    "file = open(\"C:\\\\Users\\\\Yasodha\\\\OneDrive\\\\Documents\\\\dataset_30272_6.txt\",'r')"
   ]
  },
  {
   "cell_type": "code",
   "execution_count": 13,
   "id": "9cae5a6c-2a69-40e6-8944-ac75af0c1cbd",
   "metadata": {},
   "outputs": [],
   "source": [
    "text = file.readline().strip()\n",
    "pattern = file.readline().strip()"
   ]
  },
  {
   "cell_type": "code",
   "execution_count": 3,
   "id": "372e6e2d-5f8c-4916-970c-94c295758bc2",
   "metadata": {},
   "outputs": [],
   "source": [
    "text = 'ACTGTACGATGATGTGTGTCAAAG'\n",
    "pattern_1 = 'TGT'\n",
    "def patterncount(text,pattern_1):\n",
    "    count = 0\n",
    "    for i in range(len(text)-len(pattern_1)+1):\n",
    "        if text[i:i+len(pattern_1)] == pattern_1:\n",
    "            count += 1\n",
    "    return count"
   ]
  },
  {
   "cell_type": "code",
   "execution_count": 5,
   "id": "5bead653-9507-42c7-b07f-1f19a1f7f65d",
   "metadata": {},
   "outputs": [
    {
     "name": "stdout",
     "output_type": "stream",
     "text": [
      "4\n"
     ]
    }
   ],
   "source": [
    "pcount = patterncount(text,pattern_1)\n",
    "print(pcount)"
   ]
  },
  {
   "cell_type": "code",
   "execution_count": null,
   "id": "3ec8e409-5add-4d68-9c83-42bbb3ab5005",
   "metadata": {},
   "outputs": [],
   "source": []
  },
  {
   "cell_type": "code",
   "execution_count": null,
   "id": "39e33482-27aa-42de-8d36-7ff6f5e5472c",
   "metadata": {},
   "outputs": [],
   "source": []
  },
  {
   "cell_type": "code",
   "execution_count": null,
   "id": "98009cbc-a1ec-423b-b696-d881071425b9",
   "metadata": {},
   "outputs": [],
   "source": []
  },
  {
   "cell_type": "code",
   "execution_count": null,
   "id": "5743dd79-de62-450d-a34d-56c882b4fa2d",
   "metadata": {},
   "outputs": [],
   "source": []
  }
 ],
 "metadata": {
  "kernelspec": {
   "display_name": "Python 3 (ipykernel)",
   "language": "python",
   "name": "python3"
  },
  "language_info": {
   "codemirror_mode": {
    "name": "ipython",
    "version": 3
   },
   "file_extension": ".py",
   "mimetype": "text/x-python",
   "name": "python",
   "nbconvert_exporter": "python",
   "pygments_lexer": "ipython3",
   "version": "3.12.0"
  }
 },
 "nbformat": 4,
 "nbformat_minor": 5
}
